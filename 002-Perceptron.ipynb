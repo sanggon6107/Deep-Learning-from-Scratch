{
 "cells": [
  {
   "cell_type": "markdown",
   "id": "8f0200be",
   "metadata": {},
   "source": [
    "# 2. 퍼셉트론(Perceptron)\n",
    "'인공 뉴런' 또는 '단순 퍼셉트론'이라고 불리는 개념에 대해 학습한다. 이하 퍼셉트론.\n",
    "\n",
    "퍼셉트론은 다수의 입력 신호를 받아 신호를 출력한다. 퍼셉트론이 출력하는 신호는 '흐른다(1)' 또는 '흐르지 않는다(0)'의 두 종류이다. 입력 신호와 출력 신호는 각각 뉴런 혹은 노드라고 불리며 화살표로 이어서 퍼셉트론을 표현할 수 있다. 퍼셉트론은 각 입력신호에 대해 가중치를 가진다. 입력 u1, u2에 대해, 가중치를 곱해 더한 값이 threshold를 뛰어 넘으면(> theta) 1을 출력하게 된다. 이를 \"뉴런이 활성화한다\"라고 표현한다. threshold 값은 임계값이라고 하며, 기호 theta로 나타낸다.\n",
    "\n",
    "개인적으로는 가중치가 현대제어이론에서와 같이 입력신호별 trade-off 효과를 내는 것이 아닌가 하는 인상을 받았다."
   ]
  },
  {
   "cell_type": "markdown",
   "id": "b2c751fd",
   "metadata": {},
   "source": [
    "## 2-1. AND회로의 구현"
   ]
  },
  {
   "cell_type": "code",
   "execution_count": 6,
   "id": "be3ad4f3",
   "metadata": {},
   "outputs": [
    {
     "name": "stdout",
     "output_type": "stream",
     "text": [
      "0\n",
      "0\n",
      "0\n",
      "1\n"
     ]
    }
   ],
   "source": [
    "import numpy as np\n",
    "\n",
    "def perceptron_and(u1, u2) -> int :\n",
    "    u = np.array([u1, u2])\n",
    "    w = np.array([1, 1])\n",
    "    \n",
    "    theta = 1.9\n",
    "    \n",
    "    out = np.sum(u * w) # numpy에서는 원소의 배열이 같은 곱셈을 하면 각 원소끼리 곱한다.\n",
    "    if out > theta :\n",
    "        return 1\n",
    "    else :\n",
    "        return 0\n",
    "\n",
    "print(perceptron_and(0, 1))\n",
    "print(perceptron_and(1, 0))\n",
    "print(perceptron_and(0, 0))\n",
    "print(perceptron_and(1, 1))"
   ]
  },
  {
   "cell_type": "markdown",
   "id": "b77b8b1f",
   "metadata": {},
   "source": [
    "## 2-2. 편향 도입\n",
    "\n",
    "\"가중치를 곱해 더한 값 > 임계값 theta\" 와 같이 표현할 수도 있지만, 편의를 위해 양 변에 동일한 값을 빼준다. 말 그대로 한쪽을 0으로 만들어 편향시키는 것. 수식은 아래와 같이 된다.\n",
    "\n",
    "\"가중치를 곱해 더한 값 - 편향 b > 0\". 이를 편향 (bias)라고 한다.\n",
    "\n",
    "2-2에서 구했던 AND회로를 편향을 통해 구현해본다."
   ]
  },
  {
   "cell_type": "code",
   "execution_count": 8,
   "id": "70a8e34a",
   "metadata": {},
   "outputs": [
    {
     "name": "stdout",
     "output_type": "stream",
     "text": [
      "0\n",
      "0\n",
      "0\n",
      "1\n"
     ]
    }
   ],
   "source": [
    "import numpy as np\n",
    "\n",
    "def perceptron_and(u1, u2) -> int :\n",
    "    u = np.array([u1, u2])\n",
    "    w = np.array([1, 1])\n",
    "    b = -1.9\n",
    "    \n",
    "    if np.sum(u * w) + b > 0 :\n",
    "        return 1\n",
    "    else :\n",
    "        return 0\n",
    "    \n",
    "print(perceptron_and(0, 0))\n",
    "print(perceptron_and(1, 0))\n",
    "print(perceptron_and(0, 1))\n",
    "print(perceptron_and(1, 1))"
   ]
  },
  {
   "cell_type": "markdown",
   "id": "88618066",
   "metadata": {},
   "source": [
    "## 2-3. NAND 및 OR의 구현"
   ]
  },
  {
   "cell_type": "code",
   "execution_count": 11,
   "id": "aa189f75",
   "metadata": {},
   "outputs": [
    {
     "name": "stdout",
     "output_type": "stream",
     "text": [
      "1\n",
      "1\n",
      "1\n",
      "0\n",
      "0\n",
      "1\n",
      "1\n",
      "1\n"
     ]
    }
   ],
   "source": [
    "import numpy as np\n",
    "\n",
    "def perceptron_nand(u1, u2) -> int :\n",
    "    u = np.array([u1, u2])\n",
    "    w = np.array([-1, -1])\n",
    "    b = 1.9\n",
    "    \n",
    "    if np.sum(u * w) + b > 0 :\n",
    "        return 1\n",
    "    else :\n",
    "        return 0\n",
    "    \n",
    "print(perceptron_nand(0, 0))\n",
    "print(perceptron_nand(1, 0))\n",
    "print(perceptron_nand(0, 1))\n",
    "print(perceptron_nand(1, 1))\n",
    "\n",
    "def perceptron_or(u1, u2) -> int :\n",
    "    u = np.array([u1, u2])\n",
    "    w = np.array([1, 1])\n",
    "    b = -0.1\n",
    "    \n",
    "    if np.sum(u*w) + b > 0 :\n",
    "        return 1\n",
    "    else :\n",
    "        return 0\n",
    "    \n",
    "print(perceptron_or(0, 0))\n",
    "print(perceptron_or(1, 0))\n",
    "print(perceptron_or(0, 1))\n",
    "print(perceptron_or(1, 1))\n",
    "    "
   ]
  },
  {
   "cell_type": "markdown",
   "id": "88ed7d53",
   "metadata": {},
   "source": [
    "## 2-4. 단순 퍼셉트론 (선형식)의 한계 : 다층 구조의 네트워크\n",
    "\n",
    "위에서 나온 선형식(단층 퍼셉트론)은 결코 XOR과 같은 비선형적 조건을 만족할 수 없다. 따라서 NAND, AND, OR 등을 활용하여 XOR을 구현해야한다. 불대수와 드모르간의 법칙 등을 이용하면 XOR은  XOR 이외의 회로로 나타낼 수 있으므로, 아래와 같이 된다."
   ]
  },
  {
   "cell_type": "code",
   "execution_count": 14,
   "id": "d6c0097f",
   "metadata": {},
   "outputs": [
    {
     "name": "stdout",
     "output_type": "stream",
     "text": [
      "0\n",
      "1\n",
      "1\n",
      "0\n"
     ]
    }
   ],
   "source": [
    "import numpy as np\n",
    "\n",
    "# 2층 퍼셉트론으로 만든 xor\n",
    "def perceptron_xor(u1, u2) -> int :\n",
    "    s1 = perceptron_nand(u1, u2)\n",
    "    s2 = perceptron_or(u1, u2)\n",
    "    \n",
    "    return perceptron_and(s1, s2)\n",
    "\n",
    "print(perceptron_xor(0, 0))\n",
    "print(perceptron_xor(1, 0))\n",
    "print(perceptron_xor(0, 1))\n",
    "print(perceptron_xor(1, 1))"
   ]
  },
  {
   "cell_type": "markdown",
   "id": "524eceac",
   "metadata": {},
   "source": [
    "## 2-5. NAND만으로 만든 XOR\n",
    "\n",
    "책에 실리지는 않았지만, 대학교 논리회로 시간에 배웠던 지식을 바탕으로 NAND회로를 이용하여 XOR을 구현해 보았다.\n",
    "XOR의 논리식은 아래와 같이 표현할 수 있다\n",
    "\n",
    "x1x2' + x1'x2\n",
    "\n",
    "= x1'x1 + x1x2' + x1'x2 + x2'x2\n",
    "\n",
    "= (x1 + x2)(x1' + x2')\n",
    "\n",
    "= (x1 + x2)(x1x2)'\n",
    "\n",
    "= x1(x1x2)' + x2(x1x2)'\n",
    "\n",
    "= ((x1(x1x2)')'(x2(x1x2)')')'\n",
    "\n",
    "따라서, 이를 바탕으로 XOR를 구현해보면 아래와 같다."
   ]
  },
  {
   "cell_type": "code",
   "execution_count": 18,
   "id": "629d5895",
   "metadata": {},
   "outputs": [
    {
     "name": "stdout",
     "output_type": "stream",
     "text": [
      "0\n",
      "1\n",
      "1\n",
      "0\n"
     ]
    }
   ],
   "source": [
    "def perceptron_xor_nand(u1, u2) -> int :\n",
    "    s1 = perceptron_nand(u1, u2)\n",
    "    return perceptron_nand(perceptron_nand(s1, u1), perceptron_nand(s1, u2))\n",
    "\n",
    "print(perceptron_xor_nand(0, 0))\n",
    "print(perceptron_xor_nand(0, 1))\n",
    "print(perceptron_xor_nand(1, 0))\n",
    "print(perceptron_xor_nand(1, 1))"
   ]
  },
  {
   "cell_type": "code",
   "execution_count": null,
   "id": "86beb5dd",
   "metadata": {},
   "outputs": [],
   "source": []
  }
 ],
 "metadata": {
  "kernelspec": {
   "display_name": "deep-learning-from-scratch",
   "language": "python",
   "name": "deep-learning-from-scratch"
  },
  "language_info": {
   "codemirror_mode": {
    "name": "ipython",
    "version": 3
   },
   "file_extension": ".py",
   "mimetype": "text/x-python",
   "name": "python",
   "nbconvert_exporter": "python",
   "pygments_lexer": "ipython3",
   "version": "3.10.2"
  }
 },
 "nbformat": 4,
 "nbformat_minor": 5
}
