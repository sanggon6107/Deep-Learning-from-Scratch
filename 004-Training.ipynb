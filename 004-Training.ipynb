{
 "cells": [
  {
   "cell_type": "markdown",
   "id": "845897d1",
   "metadata": {},
   "source": [
    "# 4. 신경망 학습\n",
    "\n",
    "학습은 훈련 데이터를 통해 최적의 가중치 매개변수를 자동으로 획득하는 것을 의미한다. \n",
    "\n",
    "## 4-1. 데이터와 데이터 주도 학습\n",
    "\n",
    "사람이 직접 알고리즘 짜지 않고 데이터로부터 패턴을 발견하는 것이 기계 학습이다. 예컨대 특정 숫자의 특징을 이미지로부터 사람이 직접 추출하고, 그 특징의 패턴을 기계학습 기술로 학습하는 방법이 있다. 다만 이 때도 이미지를 벡터로 변환할 때 사용하는 특징은 사람이 설계(SIFT, HOG 등)해야 한다. 신경망(딥러닝)은 이와 달리 end-to-end machine learning이기 때문에 이미지에 포함된 중요한 특징까지도 기계가 스스로 학습한다.\n",
    "\n",
    "이 때, 사용되는 데이터는 '훈련 데이터'와 '시험 데이터'로 나뉜다. 이렇게 목적에 따라 데이터를 나눔으로써 신경망의 범용적 성능을 알 수 있게 된다. 범용적 성능을 가지고 있지 않은 신경망은, 예를 들어 특정 인물의 글씨체(특정 데이터셋)만 더욱 잘 인식한다거나 하는 등의 '오버피팅(overfitting)'에 직면할 수 있다. \n",
    "\n",
    "## 4-2. 손실 함수\n",
    "\n",
    "'신경망의 성능이 얼마나 나쁜가'의 척도. 신경망은 이 손실 함수를 기준으로 최적의 매개변수 값을 탐색한다. 손실함수는 일반적으로 오차제곱합과 교차 엔트로피 오차를 사용한다.\n",
    "\n",
    "중요한 점은 신경망을 학습할 때는 정확도를 지표로 삼을 수 없다는 것이다. 정확도를 지표로 삼으면 대부분의 장소에서 매개변수(편향치와 가중치)의 미분 값이 0이 되기 때문이다.\n",
    "\n",
    "### 4-2-1. 오차제곱합 (Sum of Squres for Error, SEE)\n",
    "\n",
    "말 그대로 오차의 제곱 합이다. 정답 레이블을 $t$, 신경망의 출력(신경망이 추정한 값)을 $y$라 할 때, SSE는 다음과 같다.\n",
    "\n",
    "\n",
    "$$\\frac{1}{2}\\sum_k(y_k-t_k)^2$$\n",
    "\n",
    "예를 들어, 이미지를 입력으로 받아 숫자를 추정하는 프로그램이라고 하면, 출력은 0 ~ 9로 총 1x10 행렬일 것이다. 정답은 10개 중 하나일 것이므로 단 하나만 1 로 출력되어 '원-핫 인코딩'이 될 것이고, 신경망의 출력과 정답 레이블은 각각\n",
    "\n",
    "```python\n",
    "y = [0.1, 0.7, 0.1, 0.0, 0.0, 0.1, 0.0, 0.0, 0.0, 0.0] # 신경망의 출력. 소프트맥스 함수이므로 각 숫자일 확률로 볼 수 있다.\n",
    "t = [0, 1, 0, 0, 0, 0, 0, 0, 0, 0] # 정답은 1\n",
    "```\n",
    "과 같이 될 것이다. 소프트맥스 함수의 출력값과 정답 레이블의 오차가 커질수록 SSE 함수의 출력도 커질 것이므로 이는 '신경망의 나쁨의 정도'로 적절히 사용될 수 있다.\n",
    "\n",
    "### 4-2-2. 교차 엔트로피 오차 (Cross Entropy Error, CEE)\n",
    "\n",
    "$$E = -\\sum_kt_k\\log y_k$$\n",
    "\n",
    "이 때 정답 레이블 $t_k$는 오직 정답에 대해서만 1이고 나머지는 0인 원-핫 인코딩이므로, 결국 정답 레이블과 같은 인덱스의 출력 $y_k$가 1.0에 다가갈수록 0에 가까워지고, 0.0에 가까워질수록 1에 가까워져 오차의 정도를 계산할 수 있게 된다. 코드로 쓰면 아래와 같다."
   ]
  },
  {
   "cell_type": "code",
   "execution_count": 1,
   "id": "83bc55bc",
   "metadata": {},
   "outputs": [
    {
     "name": "stdout",
     "output_type": "stream",
     "text": [
      "8.059047775479163\n",
      "14.50628607586249\n"
     ]
    }
   ],
   "source": [
    "import numpy as np\n",
    "\n",
    "def calculate_single_cee(y : np.array, t : np.array) -> float :\n",
    "    delta = 1e-7\n",
    "    return  -1 * np.sum(t * np.log(y + delta))\n",
    "\n",
    "print(calculate_single_cee(np.array([0, 0, 1, 0, 0, 0, 0, 0, 0, 0]), np.array([0, 0, 0.5, 0.2, 0, 0, 0.1, 0.2, 0, 0])))\n",
    "print(calculate_single_cee(np.array([0, 0, 1, 0, 0, 0, 0, 0, 0, 0]), np.array([0, 0.2, 0.1, 0.2, 0, 0, 0.1, 0.2, 0.1, 0.1])))\n"
   ]
  },
  {
   "cell_type": "markdown",
   "id": "7b5cab89",
   "metadata": {},
   "source": [
    "이 때, 로그 함수는 점근선이 $x = 0$ 이므로 아주 작은 값 delta를 더하여 Nan 출력을 방지해준다.\n",
    "\n",
    "지금까지 구한 손실함수는 데이터 1개에 대한 손실함수이므로, N 개의 데이터에 대해 교차 엔트로피 오차를 구하면, \n",
    "\n",
    "$$E = -\\frac{1}{N}\\sum_n \\sum_kt_{nk} \\log y_{nk}$$\n",
    "\n",
    "로 정규화할 수 있다. 이렇게 정규화함으로써 데이터의 크기가 1000이든 100이든 통일된 오차 지표를 구할 수 있다.\n",
    "\n",
    "그런데 보통 데이터는 매우 많으므로, 일반적으로는 랜덤으로 조금씩 빼서 손실 함수를 구하고 학습하는데, 이러한 학습 방법을 미니배치 학습이라고 한다."
   ]
  },
  {
   "cell_type": "code",
   "execution_count": 2,
   "id": "38044c40",
   "metadata": {},
   "outputs": [
    {
     "name": "stdout",
     "output_type": "stream",
     "text": [
      "(60000, 784)\n",
      "(60000, 10)\n",
      "[39030 18142 54887  8893 27707 10719 58685 25576  7171 13417] , type :  <class 'numpy.ndarray'>\n",
      "x_train_batch.shape :  (10, 784)\n",
      "t_train_batch.shape :  (10, 10)\n"
     ]
    }
   ],
   "source": [
    "import sys, os\n",
    "sys.path.append(os.pardir)\n",
    "import numpy as np\n",
    "from dataset.mnist import load_mnist\n",
    "\n",
    "(x_train, t_train), (x_test, t_test) = \\\n",
    "    load_mnist(normalize = True, one_hot_label = True)\n",
    "\n",
    "print(x_train.shape) # 28 * 28 = 784\n",
    "print(t_train.shape)\n",
    "\n",
    "train_size = x_train.shape[0]\n",
    "batch_size = 10\n",
    "\n",
    "batch_mask = np.random.choice(train_size, batch_size)\n",
    "print(batch_mask, \", type : \", type(batch_mask))\n",
    "x_train_batch = x_train[batch_mask]\n",
    "print(\"x_train_batch.shape : \", x_train_batch.shape)\n",
    "t_train_batch = t_train[batch_mask]\n",
    "print(\"t_train_batch.shape : \", t_train_batch.shape)"
   ]
  },
  {
   "cell_type": "markdown",
   "id": "2b4ce9e8",
   "metadata": {},
   "source": [
    "이를 바탕으로 10개의 데이터에 대해 교차 엔트로피 에러를 구해보면 아래와 같다."
   ]
  },
  {
   "cell_type": "code",
   "execution_count": 3,
   "id": "c83c8829",
   "metadata": {},
   "outputs": [],
   "source": [
    "import numpy as np\n",
    "\n",
    "def calculate_cee(y : np.array, t : np.array) -> float :\n",
    "    if y.ndim == 1 :\n",
    "        t = t.reshape(1, t.size)\n",
    "        y = y.reshape(1, y.size)\n",
    "        \n",
    "    batch_size = y.shape[0]\n",
    "    delta = 1e-7\n",
    "    return -1 * np.sum(t * np.log(y + delta)) / batch_size"
   ]
  },
  {
   "cell_type": "markdown",
   "id": "5e8fcaca",
   "metadata": {},
   "source": [
    "## 4-3. 수치미분\n",
    "\n",
    "간단한 수치 미분의 예시는 아래와 같다. 대학교 졸업논문 작성때 배웠던 내용과 같다. 간단하게 아래의 수식을 코드로 구현하면 되는데, 중요한 점은 precision issue가 생길 수 있으므로 h의 값은 1e-4로 하자.\n",
    "전방 차분은\n",
    "\n",
    "$$\\lim_{h \\to 0} \\frac{f(x + h) - f(x)}{h}$$\n",
    "\n",
    "오차를 줄이기 위해 중앙 차분을 구하면,\n",
    "\n",
    "$$\\lim_{h \\to 0} \\frac{f(x + h) - f(x - h)}{2h}$$"
   ]
  },
  {
   "cell_type": "code",
   "execution_count": 4,
   "id": "7a641099",
   "metadata": {},
   "outputs": [
    {
     "name": "stdout",
     "output_type": "stream",
     "text": [
      "7.000000000019214e-08\n"
     ]
    }
   ],
   "source": [
    "def simple_func(x) :\n",
    "    return x*x + 3*x + 1\n",
    "\n",
    "def numerical_diff(f, x) :\n",
    "    h = 1e-4 # precision issue에 조심한다.\n",
    "    return (f(x + h) - f(x - h)) / 2*h\n",
    "\n",
    "print(numerical_diff(simple_func, 2)) # 해석적으로 풀면 7\n"
   ]
  },
  {
   "cell_type": "markdown",
   "id": "a8ec3932",
   "metadata": {},
   "source": [
    "### 4-3-1. 편미분과 기울기(gradient)\n",
    "\n",
    "다변수 함수의 특정 변수에 대한 편미분은 각각의 변수에 대해서만 시행하면 된다. 기울기(gradient)는 모든 변수에 대한 편미분을 벡터로 정리한 것이다. 예를 들어, 아래의 함수가 있다고 해보자.\n",
    "\n",
    "$$f(x_0, x_1) = x_0^2 + x_1^2$$\n",
    "\n",
    "이 때, 각 변수에 대한 편도함수는\n",
    "\n",
    "$$f_{x_0} = 2x_0$$\n",
    "$$f_{x_1} = 2x_1$$\n",
    "\n",
    "수치 미분을 적용하여 기울기를 코드로 작성하면 아래와 같다."
   ]
  },
  {
   "cell_type": "code",
   "execution_count": 5,
   "id": "6079f893",
   "metadata": {},
   "outputs": [],
   "source": [
    "def numerical_gradient(f, x) :\n",
    "    h = 1e-4\n",
    "    grad = np.zeros_like(x)\n",
    "    \n",
    "    for idx in range(x.size) :\n",
    "        temp_val = x[idx]\n",
    "        # f(x + h)\n",
    "        x[idx] = temp_val + h \n",
    "        fxh1 = f(x)\n",
    "        \n",
    "        # f(x - h)\n",
    "        x[idx] = temp_val - h\n",
    "        fxh2 = f(x)\n",
    "        \n",
    "        grad[idx] = (fxh1 - fxh2) / (2*h)\n",
    "        x[idx] = temp_val\n",
    "        \n",
    "    return grad"
   ]
  },
  {
   "cell_type": "markdown",
   "id": "f372dadf",
   "metadata": {},
   "source": [
    "이제 numerical_gradient 함수를 이용해서 gradient descent를 구현해본다. gradient descent를 수식으로 나타내면,\n",
    "\n",
    "$$x_0' = x_0 - \\eta \\frac{\\delta f}{\\delta x_0}$$\n",
    "\n",
    "$$x_1' = x_1 - \\eta \\frac{\\delta f}{\\delta x_1}$$\n",
    "\n",
    "따라서, 이를 기반으로 코드를 작성하면"
   ]
  },
  {
   "cell_type": "code",
   "execution_count": 6,
   "id": "c462d41b",
   "metadata": {},
   "outputs": [
    {
     "name": "stdout",
     "output_type": "stream",
     "text": [
      "[8.14814391e-10 6.11110793e-10]\n",
      "[3.92078685 2.94059014]\n",
      "[-1.29524862e+12  2.58983747e+13]\n"
     ]
    }
   ],
   "source": [
    "def gradient_descent(f, init_x, step = 0.1, itr = 100) :\n",
    "    x = init_x\n",
    "    \n",
    "    for i in range(itr) :\n",
    "        grad = numerical_gradient(f, x)\n",
    "        x -= step * grad\n",
    "    return x\n",
    "\n",
    "def func_example(x) :\n",
    "    return x[0]**2 + x[1]**2\n",
    "\n",
    "print(gradient_descent(func_example, np.array([4.0, 3.0])))\n",
    "\n",
    "print(gradient_descent(func_example, np.array([4.0, 3.0]), step = 0.0001)) # step size가 너무 작다면? -> x wouldn't converge well.\n",
    "\n",
    "print(gradient_descent(func_example, np.array([4.0, 3.0]), step = 10)) # step size가 너무 크다면? -> x would diverge."
   ]
  },
  {
   "cell_type": "markdown",
   "id": "dff5bb9d",
   "metadata": {},
   "source": [
    "위의 내용을 바탕으로 확률적 경사 하강법(Stochastic Gradient Descent)를 구현해보자. '확률적'이라는 뜻은, 미니 배칠를 통해 일부 데이터만의 경사 하강을 구하기 때문에 붙은 이름이다."
   ]
  },
  {
   "cell_type": "code",
   "execution_count": 7,
   "id": "31170df5",
   "metadata": {},
   "outputs": [
    {
     "ename": "KeyboardInterrupt",
     "evalue": "",
     "output_type": "error",
     "traceback": [
      "\u001b[1;31m---------------------------------------------------------------------------\u001b[0m",
      "\u001b[1;31mKeyboardInterrupt\u001b[0m                         Traceback (most recent call last)",
      "Cell \u001b[1;32mIn[7], line 79\u001b[0m\n\u001b[0;32m     76\u001b[0m t_batch \u001b[38;5;241m=\u001b[39m t_train[batch_mask]\n\u001b[0;32m     78\u001b[0m \u001b[38;5;66;03m# 기울기 계산\u001b[39;00m\n\u001b[1;32m---> 79\u001b[0m grad \u001b[38;5;241m=\u001b[39m \u001b[43mnet\u001b[49m\u001b[38;5;241;43m.\u001b[39;49m\u001b[43mnumerical_gradient\u001b[49m\u001b[43m(\u001b[49m\u001b[43mx_batch\u001b[49m\u001b[43m,\u001b[49m\u001b[43m \u001b[49m\u001b[43mt_batch\u001b[49m\u001b[43m)\u001b[49m\n\u001b[0;32m     81\u001b[0m \u001b[38;5;66;03m# 매개변수 갱신\u001b[39;00m\n\u001b[0;32m     82\u001b[0m \u001b[38;5;28;01mfor\u001b[39;00m key \u001b[38;5;129;01min\u001b[39;00m (\u001b[38;5;124m'\u001b[39m\u001b[38;5;124mW1\u001b[39m\u001b[38;5;124m'\u001b[39m, \u001b[38;5;124m'\u001b[39m\u001b[38;5;124mb1\u001b[39m\u001b[38;5;124m'\u001b[39m, \u001b[38;5;124m'\u001b[39m\u001b[38;5;124mW2\u001b[39m\u001b[38;5;124m'\u001b[39m, \u001b[38;5;124m'\u001b[39m\u001b[38;5;124mb2\u001b[39m\u001b[38;5;124m'\u001b[39m) :\n",
      "Cell \u001b[1;32mIn[7], line 47\u001b[0m, in \u001b[0;36mTwoLayerNet.numerical_gradient\u001b[1;34m(self, x, t)\u001b[0m\n\u001b[0;32m     44\u001b[0m loss_W \u001b[38;5;241m=\u001b[39m \u001b[38;5;28;01mlambda\u001b[39;00m W : \u001b[38;5;28mself\u001b[39m\u001b[38;5;241m.\u001b[39mloss(x, t)\n\u001b[0;32m     46\u001b[0m grads \u001b[38;5;241m=\u001b[39m {}\n\u001b[1;32m---> 47\u001b[0m grads[\u001b[38;5;124m'\u001b[39m\u001b[38;5;124mW1\u001b[39m\u001b[38;5;124m'\u001b[39m] \u001b[38;5;241m=\u001b[39m \u001b[43mcommon\u001b[49m\u001b[38;5;241;43m.\u001b[39;49m\u001b[43mgradient\u001b[49m\u001b[38;5;241;43m.\u001b[39;49m\u001b[43mnumerical_gradient\u001b[49m\u001b[43m(\u001b[49m\u001b[43mloss_W\u001b[49m\u001b[43m,\u001b[49m\u001b[43m \u001b[49m\u001b[38;5;28;43mself\u001b[39;49m\u001b[38;5;241;43m.\u001b[39;49m\u001b[43mparams\u001b[49m\u001b[43m[\u001b[49m\u001b[38;5;124;43m'\u001b[39;49m\u001b[38;5;124;43mW1\u001b[39;49m\u001b[38;5;124;43m'\u001b[39;49m\u001b[43m]\u001b[49m\u001b[43m)\u001b[49m\n\u001b[0;32m     48\u001b[0m grads[\u001b[38;5;124m'\u001b[39m\u001b[38;5;124mb1\u001b[39m\u001b[38;5;124m'\u001b[39m] \u001b[38;5;241m=\u001b[39m common\u001b[38;5;241m.\u001b[39mgradient\u001b[38;5;241m.\u001b[39mnumerical_gradient(loss_W, \u001b[38;5;28mself\u001b[39m\u001b[38;5;241m.\u001b[39mparams[\u001b[38;5;124m'\u001b[39m\u001b[38;5;124mb1\u001b[39m\u001b[38;5;124m'\u001b[39m])\n\u001b[0;32m     49\u001b[0m grads[\u001b[38;5;124m'\u001b[39m\u001b[38;5;124mW2\u001b[39m\u001b[38;5;124m'\u001b[39m] \u001b[38;5;241m=\u001b[39m common\u001b[38;5;241m.\u001b[39mgradient\u001b[38;5;241m.\u001b[39mnumerical_gradient(loss_W, \u001b[38;5;28mself\u001b[39m\u001b[38;5;241m.\u001b[39mparams[\u001b[38;5;124m'\u001b[39m\u001b[38;5;124mW2\u001b[39m\u001b[38;5;124m'\u001b[39m])\n",
      "File \u001b[1;32m~\\deep-learning-from-scratch\\common\\gradient.py:43\u001b[0m, in \u001b[0;36mnumerical_gradient\u001b[1;34m(f, x)\u001b[0m\n\u001b[0;32m     41\u001b[0m tmp_val \u001b[38;5;241m=\u001b[39m x[idx]\n\u001b[0;32m     42\u001b[0m x[idx] \u001b[38;5;241m=\u001b[39m \u001b[38;5;28mfloat\u001b[39m(tmp_val) \u001b[38;5;241m+\u001b[39m h\n\u001b[1;32m---> 43\u001b[0m fxh1 \u001b[38;5;241m=\u001b[39m \u001b[43mf\u001b[49m\u001b[43m(\u001b[49m\u001b[43mx\u001b[49m\u001b[43m)\u001b[49m \u001b[38;5;66;03m# f(x+h)\u001b[39;00m\n\u001b[0;32m     45\u001b[0m x[idx] \u001b[38;5;241m=\u001b[39m tmp_val \u001b[38;5;241m-\u001b[39m h \n\u001b[0;32m     46\u001b[0m fxh2 \u001b[38;5;241m=\u001b[39m f(x) \u001b[38;5;66;03m# f(x-h)\u001b[39;00m\n",
      "Cell \u001b[1;32mIn[7], line 44\u001b[0m, in \u001b[0;36mTwoLayerNet.numerical_gradient.<locals>.<lambda>\u001b[1;34m(W)\u001b[0m\n\u001b[0;32m     43\u001b[0m \u001b[38;5;28;01mdef\u001b[39;00m \u001b[38;5;21mnumerical_gradient\u001b[39m(\u001b[38;5;28mself\u001b[39m, x, t) :\n\u001b[1;32m---> 44\u001b[0m     loss_W \u001b[38;5;241m=\u001b[39m \u001b[38;5;28;01mlambda\u001b[39;00m W : \u001b[38;5;28;43mself\u001b[39;49m\u001b[38;5;241;43m.\u001b[39;49m\u001b[43mloss\u001b[49m\u001b[43m(\u001b[49m\u001b[43mx\u001b[49m\u001b[43m,\u001b[49m\u001b[43m \u001b[49m\u001b[43mt\u001b[49m\u001b[43m)\u001b[49m\n\u001b[0;32m     46\u001b[0m     grads \u001b[38;5;241m=\u001b[39m {}\n\u001b[0;32m     47\u001b[0m     grads[\u001b[38;5;124m'\u001b[39m\u001b[38;5;124mW1\u001b[39m\u001b[38;5;124m'\u001b[39m] \u001b[38;5;241m=\u001b[39m common\u001b[38;5;241m.\u001b[39mgradient\u001b[38;5;241m.\u001b[39mnumerical_gradient(loss_W, \u001b[38;5;28mself\u001b[39m\u001b[38;5;241m.\u001b[39mparams[\u001b[38;5;124m'\u001b[39m\u001b[38;5;124mW1\u001b[39m\u001b[38;5;124m'\u001b[39m])\n",
      "Cell \u001b[1;32mIn[7], line 31\u001b[0m, in \u001b[0;36mTwoLayerNet.loss\u001b[1;34m(self, x, t)\u001b[0m\n\u001b[0;32m     30\u001b[0m \u001b[38;5;28;01mdef\u001b[39;00m \u001b[38;5;21mloss\u001b[39m(\u001b[38;5;28mself\u001b[39m, x, t) :\n\u001b[1;32m---> 31\u001b[0m     y \u001b[38;5;241m=\u001b[39m \u001b[38;5;28;43mself\u001b[39;49m\u001b[38;5;241;43m.\u001b[39;49m\u001b[43mpredict\u001b[49m\u001b[43m(\u001b[49m\u001b[43mx\u001b[49m\u001b[43m)\u001b[49m\n\u001b[0;32m     33\u001b[0m     \u001b[38;5;28;01mreturn\u001b[39;00m cross_entropy_error(y, t)\n",
      "Cell \u001b[1;32mIn[7], line 23\u001b[0m, in \u001b[0;36mTwoLayerNet.predict\u001b[1;34m(self, x)\u001b[0m\n\u001b[0;32m     20\u001b[0m W1, W2 \u001b[38;5;241m=\u001b[39m \u001b[38;5;28mself\u001b[39m\u001b[38;5;241m.\u001b[39mparams[\u001b[38;5;124m'\u001b[39m\u001b[38;5;124mW1\u001b[39m\u001b[38;5;124m'\u001b[39m], \u001b[38;5;28mself\u001b[39m\u001b[38;5;241m.\u001b[39mparams[\u001b[38;5;124m'\u001b[39m\u001b[38;5;124mW2\u001b[39m\u001b[38;5;124m'\u001b[39m]\n\u001b[0;32m     21\u001b[0m b1, b2 \u001b[38;5;241m=\u001b[39m \u001b[38;5;28mself\u001b[39m\u001b[38;5;241m.\u001b[39mparams[\u001b[38;5;124m'\u001b[39m\u001b[38;5;124mb1\u001b[39m\u001b[38;5;124m'\u001b[39m], \u001b[38;5;28mself\u001b[39m\u001b[38;5;241m.\u001b[39mparams[\u001b[38;5;124m'\u001b[39m\u001b[38;5;124mb2\u001b[39m\u001b[38;5;124m'\u001b[39m]\n\u001b[1;32m---> 23\u001b[0m a1 \u001b[38;5;241m=\u001b[39m \u001b[43mnp\u001b[49m\u001b[38;5;241;43m.\u001b[39;49m\u001b[43mdot\u001b[49m\u001b[43m(\u001b[49m\u001b[43mx\u001b[49m\u001b[43m,\u001b[49m\u001b[43m \u001b[49m\u001b[43mW1\u001b[49m\u001b[43m)\u001b[49m \u001b[38;5;241m+\u001b[39m b1\n\u001b[0;32m     24\u001b[0m z1 \u001b[38;5;241m=\u001b[39m sigmoid(a1) \u001b[38;5;66;03m# 은닉층의 출력. 시그모이드 함수.\u001b[39;00m\n\u001b[0;32m     25\u001b[0m a2 \u001b[38;5;241m=\u001b[39m np\u001b[38;5;241m.\u001b[39mdot(z1, W2) \u001b[38;5;241m+\u001b[39m b2\n",
      "File \u001b[1;32m<__array_function__ internals>:180\u001b[0m, in \u001b[0;36mdot\u001b[1;34m(*args, **kwargs)\u001b[0m\n",
      "\u001b[1;31mKeyboardInterrupt\u001b[0m: "
     ]
    }
   ],
   "source": [
    "import sys, os\n",
    "sys.path.append(os.pardir)\n",
    "from common.functions import *\n",
    "# from common.gradient import numerical_gradient\n",
    "import common.gradient\n",
    "from dataset.mnist import load_mnist\n",
    "\n",
    "class TwoLayerNet : # 하나의 은닉층과 하나의 출력층으로 구성되어 있는 네트워크.\n",
    "    def __init__(self, input_size, hidden_size, output_size, weight_init_std = 0.01) :\n",
    "        \n",
    "        #params 초기화\n",
    "        self.params = {}\n",
    "        self.params['W1'] = weight_init_std * np.random.randn(input_size, hidden_size)\n",
    "        self.params['b1'] = np.zeros(hidden_size)\n",
    "        \n",
    "        self.params['W2'] = weight_init_std * np.random.randn(hidden_size, output_size)\n",
    "        self.params['b2'] = np.zeros(output_size)\n",
    "    def predict(self, x) :\n",
    "        \n",
    "        W1, W2 = self.params['W1'], self.params['W2']\n",
    "        b1, b2 = self.params['b1'], self.params['b2']\n",
    "        \n",
    "        a1 = np.dot(x, W1) + b1\n",
    "        z1 = sigmoid(a1) # 은닉층의 출력. 시그모이드 함수.\n",
    "        a2 = np.dot(z1, W2) + b2\n",
    "        y = softmax(a2) # 출력층. 소프트맥스 함수.\n",
    "        \n",
    "        return y\n",
    "    \n",
    "    def loss(self, x, t) :\n",
    "        y = self.predict(x)\n",
    "\n",
    "        return cross_entropy_error(y, t) # predict로 나온 출력에 대해 교차 엔트로피 에러를 구한다.\n",
    "    \n",
    "    def accuracy(self, x, t) :\n",
    "        y = self.predict(x)\n",
    "        y = np.argmax(y, axis = 1)\n",
    "        t = np.argmax(t, axis = 1)\n",
    "        \n",
    "        accuracy = np.sum(y == t) / float(x.shape[0])\n",
    "        return accuracy\n",
    "    \n",
    "    def numerical_gradient(self, x, t) :\n",
    "        loss_W = lambda W : self.loss(x, t)\n",
    "        \n",
    "        grads = {}\n",
    "        grads['W1'] = common.gradient.numerical_gradient(loss_W, self.params['W1'])\n",
    "        grads['b1'] = common.gradient.numerical_gradient(loss_W, self.params['b1'])\n",
    "        grads['W2'] = common.gradient.numerical_gradient(loss_W, self.params['W2'])\n",
    "        grads['b2'] = common.gradient.numerical_gradient(loss_W, self.params['b2'])\n",
    "        \n",
    "        return grads\n",
    "\n",
    "if __name__ == \"__main__\" :\n",
    "    \n",
    "    (x_train, t_train), (x_test, t_test) = load_mnist(normalize = True, one_hot_label = True)\n",
    "    \n",
    "    train_loss_list = []\n",
    "    \n",
    "    # 하이퍼 파라미터\n",
    "    iters_num = 10000\n",
    "    train_size = x_train.shape[0]\n",
    "    batch_size = 100\n",
    "    learning_rate = 0.1\n",
    "    \n",
    "    net = TwoLayerNet(input_size = 784, hidden_size = 50, output_size = 10)\n",
    "    \n",
    "    # print(net.params['W1'].shape) # (784, 100)\n",
    "    # print(net.params['b1'].shape) # (100,)\n",
    "    # print(net.params['W2'].shape) # (100, 10)\n",
    "    # print(net.params['b2'].shape) # (10,)\n",
    "    \n",
    "    for i in range(iters_num) :\n",
    "        batch_mask = np.random.choice(train_size, batch_size) # 훈련 데이터중에서 batch size만큼 랜덤으로 선택\n",
    "        x_batch = x_train[batch_mask]\n",
    "        t_batch = t_train[batch_mask]\n",
    "        \n",
    "        # 기울기 계산\n",
    "        grad = net.numerical_gradient(x_batch, t_batch)\n",
    "        \n",
    "        # 매개변수 갱신\n",
    "        for key in ('W1', 'b1', 'W2', 'b2') :\n",
    "            net.params[key] -= learning_rate * grad[key]\n",
    "            \n",
    "        # 학습 경과 기록\n",
    "        loss = net.loss(x_batch, t_batch)\n",
    "        train_loss_list.append(loss)\n",
    "        \n",
    "        \n",
    "    print(train_loss_list)"
   ]
  }
 ],
 "metadata": {
  "kernelspec": {
   "display_name": "deep-learning-from-scratch",
   "language": "python",
   "name": "deep-learning-from-scratch"
  },
  "language_info": {
   "codemirror_mode": {
    "name": "ipython",
    "version": 3
   },
   "file_extension": ".py",
   "mimetype": "text/x-python",
   "name": "python",
   "nbconvert_exporter": "python",
   "pygments_lexer": "ipython3",
   "version": "3.10.2"
  }
 },
 "nbformat": 4,
 "nbformat_minor": 5
}
