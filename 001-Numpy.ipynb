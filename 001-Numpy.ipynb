{
 "cells": [
  {
   "cell_type": "markdown",
   "id": "e7b4ddd7",
   "metadata": {},
   "source": [
    "# 1. 넘파이\n",
    "\n",
    "다양한 행렬 연산을 지원한다.\n",
    "\n",
    "1차원 배열은 벡터(vector), 2차원 배열은 행렬(matrix). 벡터와 행렬을 일반화한 것을 텐서(tesor)라고 한다."
   ]
  },
  {
   "cell_type": "code",
   "execution_count": 1,
   "id": "20b790a9",
   "metadata": {},
   "outputs": [
    {
     "name": "stdout",
     "output_type": "stream",
     "text": [
      "[[1 4]\n",
      " [3 8]]\n"
     ]
    }
   ],
   "source": [
    "import numpy as np\n",
    "\n",
    "# 행렬의 선언과 곱\n",
    "a = np.array([[1, 2], [3, 4]])\n",
    "b = np.array([1, 2])\n",
    "\n",
    "c = b * a\n",
    "print(c)"
   ]
  },
  {
   "cell_type": "markdown",
   "id": "d3580f4c",
   "metadata": {},
   "source": [
    "## 1-1. 브로드캐스트\n",
    "넘파이에서는 다른 형태의 행렬끼리 연산을 지원한다. 이를 브로드캐스트라고 한다."
   ]
  },
  {
   "cell_type": "code",
   "execution_count": 8,
   "id": "6a5fc6b3",
   "metadata": {},
   "outputs": [
    {
     "name": "stdout",
     "output_type": "stream",
     "text": [
      "[[ 4  8]\n",
      " [12 16]]\n",
      "[[ 4 10 18]\n",
      " [12 20 24]\n",
      " [20 30 42]]\n"
     ]
    }
   ],
   "source": [
    "import numpy as np\n",
    "\n",
    "a = np.array([[1, 2], [3, 4]])\n",
    "print (4 * a)\n",
    "\n",
    "# 2x2행렬과 연산할 수 있도록 c를 아래로 늘린다.\n",
    "b = np.array([[1, 2, 3], [3, 4, 4], [5, 6, 7]])\n",
    "c = np.array([4, 5, 6])  # c = np.array([4, 5])은 에러가 뜬다 (ValueError: operands could not be broadcast together with shapes (3,3) (2,) )\n",
    "print( b * c)"
   ]
  },
  {
   "cell_type": "markdown",
   "id": "62555974",
   "metadata": {},
   "source": [
    "## 1-2. 인덱싱"
   ]
  },
  {
   "cell_type": "code",
   "execution_count": 10,
   "id": "51681432",
   "metadata": {},
   "outputs": [
    {
     "name": "stdout",
     "output_type": "stream",
     "text": [
      "[1 2 3]\n",
      "[3 3 3]\n",
      "[5 5 5]\n",
      "[12  3  6]\n",
      "[3 3 3]\n",
      "3\n"
     ]
    }
   ],
   "source": [
    "import numpy as np\n",
    "\n",
    "a = np.array([[1, 2, 3], [3, 3, 3], [5, 5, 5], [12, 3, 6]])\n",
    "\n",
    "# for문을 통한 행 접근\n",
    "for row in a :\n",
    "    print(row)\n",
    "\n",
    "# 원소 또는 행 인덱싱\n",
    "print(a[1]) # 행 접근\n",
    "print(a[3][1]) # 원소 접근"
   ]
  }
 ],
 "metadata": {
  "kernelspec": {
   "display_name": "deep-learning-from-scratch",
   "language": "python",
   "name": "deep-learning-from-scratch"
  },
  "language_info": {
   "codemirror_mode": {
    "name": "ipython",
    "version": 3
   },
   "file_extension": ".py",
   "mimetype": "text/x-python",
   "name": "python",
   "nbconvert_exporter": "python",
   "pygments_lexer": "ipython3",
   "version": "3.10.2"
  }
 },
 "nbformat": 4,
 "nbformat_minor": 5
}
